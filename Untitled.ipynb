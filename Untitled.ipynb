{
 "cells": [
  {
   "cell_type": "code",
   "execution_count": 1,
   "id": "5e12ed2e-a969-479f-81bb-9cca13ebf6d1",
   "metadata": {},
   "outputs": [],
   "source": [
    "import pandas as pd\n",
    "import numpy as np\n",
    "import matplotlib.pyplot as plt"
   ]
  },
  {
   "cell_type": "markdown",
   "id": "5119a22e-6ceb-434f-97af-c4b1042738fa",
   "metadata": {
    "scrolled": true
   },
   "source": [
    "df = pd.read_csv(\"Fake_Real_Data.csv\")\n",
    "\n",
    "df.head()"
   ]
  },
  {
   "cell_type": "code",
   "execution_count": 5,
   "id": "7a0d816b-5af6-4bc7-85fc-688be11b8e65",
   "metadata": {},
   "outputs": [
    {
     "data": {
      "text/plain": [
       "label\n",
       "Fake    5000\n",
       "Real    4900\n",
       "Name: count, dtype: int64"
      ]
     },
     "execution_count": 5,
     "metadata": {},
     "output_type": "execute_result"
    }
   ],
   "source": [
    "df.shape\n",
    "df.label.value_counts()"
   ]
  },
  {
   "cell_type": "code",
   "execution_count": 14,
   "id": "7efbd4b3-03ee-40ff-8b51-0bed8ed9b771",
   "metadata": {},
   "outputs": [],
   "source": [
    "# fake = 0 , Real = 1\n",
    "\n",
    "from sklearn.preprocessing import LabelEncoder\n",
    "le = LabelEncoder()\n",
    "df.label = le.fit_transform(df.label)\n"
   ]
  },
  {
   "cell_type": "code",
   "execution_count": 15,
   "id": "7d7e4e13-a959-42aa-973c-06af05ee6a2a",
   "metadata": {},
   "outputs": [
    {
     "name": "stdout",
     "output_type": "stream",
     "text": [
      "                                                Text  label\n",
      "0   Top Trump Surrogate BRUTALLY Stabs Him In The...      0\n",
      "1  U.S. conservative leader optimistic of common ...      1\n",
      "2  Trump proposes U.S. tax overhaul, stirs concer...      1\n",
      "3   Court Forces Ohio To Allow Millions Of Illega...      0\n",
      "4  Democrats say Trump agrees to work on immigrat...      1\n"
     ]
    }
   ],
   "source": [
    "print(df.head())"
   ]
  },
  {
   "cell_type": "code",
   "execution_count": 16,
   "id": "5986e2f8-ccfc-4fbc-b9ef-d57e84ab3113",
   "metadata": {},
   "outputs": [],
   "source": [
    "X = df.Text\n",
    "y = df.label"
   ]
  },
  {
   "cell_type": "markdown",
   "id": "35ff99fa-32bb-48c6-b180-8e973d4f9b1f",
   "metadata": {},
   "source": [
    "# Modeling without Preprocessing"
   ]
  },
  {
   "cell_type": "code",
   "execution_count": 18,
   "id": "8724c7f7-f1c4-4345-90ae-7a5ed48b3ac1",
   "metadata": {},
   "outputs": [],
   "source": [
    "from sklearn.model_selection import train_test_split\n",
    "\n",
    "X_train, X_test, y_train, y_test = train_test_split(\n",
    "    X, y, test_size=0.30, random_state=42,stratify = y)"
   ]
  },
  {
   "cell_type": "code",
   "execution_count": 19,
   "id": "635068b1-f9b8-4064-bf1b-91792375ce12",
   "metadata": {},
   "outputs": [
    {
     "data": {
      "text/plain": [
       "label\n",
       "0    3500\n",
       "1    3430\n",
       "Name: count, dtype: int64"
      ]
     },
     "execution_count": 19,
     "metadata": {},
     "output_type": "execute_result"
    }
   ],
   "source": [
    "y_train.value_counts()"
   ]
  },
  {
   "cell_type": "code",
   "execution_count": 20,
   "id": "319cd8fc-d1f3-4418-b105-005537e123cc",
   "metadata": {},
   "outputs": [
    {
     "name": "stdout",
     "output_type": "stream",
     "text": [
      "              precision    recall  f1-score   support\n",
      "\n",
      "           0       0.90      0.95      0.93      1425\n",
      "           1       0.95      0.91      0.93      1545\n",
      "\n",
      "    accuracy                           0.93      2970\n",
      "   macro avg       0.93      0.93      0.93      2970\n",
      "weighted avg       0.93      0.93      0.93      2970\n",
      "\n"
     ]
    }
   ],
   "source": [
    "#1. create a pipeline object\n",
    "\n",
    "from sklearn.pipeline import Pipeline\n",
    "from sklearn.feature_extraction.text import CountVectorizer\n",
    "from sklearn.neighbors import KNeighborsClassifier\n",
    "from sklearn.metrics import classification_report\n",
    "\n",
    "clf = Pipeline([\n",
    "    ('vectorizer', CountVectorizer()),\n",
    "    ('knn', KNeighborsClassifier(n_neighbors=10,))\n",
    "])\n",
    "\n",
    "\n",
    "\n",
    "#2. fit with X_train and y_train\n",
    "clf.fit(X_train,y_train)\n",
    "\n",
    "\n",
    "#3. get the predictions for X_test and store it in y_pred\n",
    "y_pred = clf.predict(X_test)\n",
    "\n",
    "\n",
    "#4. print the classfication report\n",
    "print(classification_report(y_pred,y_test))"
   ]
  },
  {
   "cell_type": "code",
   "execution_count": 21,
   "id": "3e5bb507-40e6-4945-abd0-d109b8223154",
   "metadata": {},
   "outputs": [
    {
     "name": "stdout",
     "output_type": "stream",
     "text": [
      "              precision    recall  f1-score   support\n",
      "\n",
      "           0       1.00      1.00      1.00      1506\n",
      "           1       1.00      1.00      1.00      1464\n",
      "\n",
      "    accuracy                           1.00      2970\n",
      "   macro avg       1.00      1.00      1.00      2970\n",
      "weighted avg       1.00      1.00      1.00      2970\n",
      "\n"
     ]
    }
   ],
   "source": [
    "#1. create a pipeline object\n",
    "\n",
    "from sklearn.pipeline import Pipeline\n",
    "from sklearn.feature_extraction.text import CountVectorizer\n",
    "from sklearn.ensemble import RandomForestClassifier\n",
    "from sklearn.metrics import classification_report\n",
    "\n",
    "clf = Pipeline([\n",
    "    ('vectorizer', CountVectorizer()),\n",
    "    ('rf', RandomForestClassifier())\n",
    "])\n",
    "\n",
    "\n",
    "\n",
    "#2. fit with X_train and y_train\n",
    "clf.fit(X_train,y_train)\n",
    "\n",
    "\n",
    "#3. get the predictions for X_test and store it in y_pred\n",
    "y_pred = clf.predict(X_test)\n",
    "\n",
    "\n",
    "#4. print the classfication report\n",
    "print(classification_report(y_pred,y_test))"
   ]
  },
  {
   "cell_type": "markdown",
   "id": "ec90ce6f-3b05-4b00-8b2b-3b0807a85cfd",
   "metadata": {},
   "source": [
    "# With preprocessing Modeling"
   ]
  },
  {
   "cell_type": "code",
   "execution_count": 31,
   "id": "4544e1d7-768d-4175-8eb2-f3666d04bc6e",
   "metadata": {},
   "outputs": [],
   "source": [
    "import spacy\n",
    "\n",
    "# load english language model and create nlp object from it\n",
    "nlp = spacy.load(\"en_core_web_sm\") \n",
    "\n",
    "def preprocess(text):\n",
    "    # remove stop words and lemmatize the text\n",
    "    doc = nlp(text)\n",
    "    filtered_tokens = []\n",
    "    for token in doc:\n",
    "        if token.is_stop or token.is_punct:\n",
    "            continue\n",
    "        filtered_tokens.append(token.lemma_)\n",
    "    \n",
    "    return \" \".join(filtered_tokens) "
   ]
  },
  {
   "cell_type": "code",
   "execution_count": 32,
   "id": "2cc47c01-0165-45e0-9778-d548d4dad89b",
   "metadata": {},
   "outputs": [
    {
     "name": "stderr",
     "output_type": "stream",
     "text": [
      "C:\\Users\\rushi\\AppData\\Local\\Temp\\ipykernel_19628\\3133960984.py:1: UserWarning: Pandas doesn't allow columns to be created via a new attribute name - see https://pandas.pydata.org/pandas-docs/stable/indexing.html#attribute-access\n",
      "  df.processed_text = df.Text.apply(preprocess)\n"
     ]
    }
   ],
   "source": [
    "df.processed_text = df.Text.apply(preprocess)"
   ]
  },
  {
   "cell_type": "code",
   "execution_count": null,
   "id": "ffea89d0-f866-4b6c-bc20-be240bebc209",
   "metadata": {},
   "outputs": [],
   "source": [
    "X = df.processed_text\n",
    "y= df.label\n",
    "\n",
    "from sklearn.model_selection import train_test_split\n",
    "\n",
    "X_train, X_test, y_train, y_test = train_test_split(\n",
    "    X, y, test_size=0.20, random_state=42,stratify = y)\n",
    "\n",
    "clf = Pipeline([\n",
    "    ('vectorizer', CountVectorizer()),\n",
    "    ('knn', KNeighborsClassifier(n_neighbors=10,))\n",
    "])\n",
    "\n",
    "\n",
    "\n",
    "#2. fit with X_train and y_train\n",
    "clf.fit(X_train,y_train)\n",
    "\n",
    "\n",
    "#3. get the predictions for X_test and store it in y_pred\n",
    "y_pred = clf.predict(X_test)\n",
    "\n",
    "\n",
    "#4. print the classfication report\n",
    "print(classification_report(y_pred,y_test))"
   ]
  },
  {
   "cell_type": "code",
   "execution_count": null,
   "id": "7fff0d0f-05d0-4500-bfd4-1a2893a112a2",
   "metadata": {},
   "outputs": [],
   "source": []
  }
 ],
 "metadata": {
  "kernelspec": {
   "display_name": "Python 3 (ipykernel)",
   "language": "python",
   "name": "python3"
  },
  "language_info": {
   "codemirror_mode": {
    "name": "ipython",
    "version": 3
   },
   "file_extension": ".py",
   "mimetype": "text/x-python",
   "name": "python",
   "nbconvert_exporter": "python",
   "pygments_lexer": "ipython3",
   "version": "3.11.7"
  }
 },
 "nbformat": 4,
 "nbformat_minor": 5
}
